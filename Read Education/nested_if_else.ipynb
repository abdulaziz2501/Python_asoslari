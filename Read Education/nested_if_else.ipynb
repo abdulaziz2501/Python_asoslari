{
 "cells": [
  {
   "cell_type": "markdown",
   "id": "7bb43c75745b78ca",
   "metadata": {},
   "source": [
    " # Nested if-else"
   ]
  },
  {
   "cell_type": "code",
   "execution_count": 1,
   "id": "fab693d0833e6df1",
   "metadata": {
    "ExecuteTime": {
     "end_time": "2025-09-24T05:07:29.429152Z",
     "start_time": "2025-09-24T05:07:22.868678Z"
    }
   },
   "outputs": [
    {
     "name": "stdout",
     "output_type": "stream",
     "text": [
      "qoniqarli\n"
     ]
    }
   ],
   "source": [
    "a=int(input(\"ballingizni kiriting: \"))\n",
    "\n",
    "if a>=60 and a<=100:\n",
    "    if a>=90:\n",
    "        print(\"A'lo\")\n",
    "    elif a>=70:\n",
    "        print(\"qoniqarli\")\n",
    "    else:\n",
    "        print(\"qoniqarsiz\")\n",
    "else:\n",
    "    print(\"olmaydi\")"
   ]
  },
  {
   "cell_type": "code",
   "execution_count": 2,
   "id": "ae519b4186f68bd1",
   "metadata": {
    "ExecuteTime": {
     "end_time": "2025-09-24T05:08:41.583322Z",
     "start_time": "2025-09-24T05:08:41.581292Z"
    }
   },
   "outputs": [
    {
     "name": "stdout",
     "output_type": "stream",
     "text": [
      "10\n"
     ]
    }
   ],
   "source": [
    "b=\"0123456789\"\n",
    "a=len(b)\n",
    "print(a)"
   ]
  },
  {
   "cell_type": "markdown",
   "id": "c3696cb1ffffe5c1",
   "metadata": {},
   "source": [
    "# Loop - While, For\n",
    "## Bular takrorlanuvchi operatorlar"
   ]
  },
  {
   "cell_type": "markdown",
   "id": "ba4f14038e4d7720",
   "metadata": {},
   "source": [
    "## While - takrorlanuvchi operator\n",
    "![attachments](https://media.geeksforgeeks.org/wp-content/uploads/20240214162718/While-Loop-GeeksforGeeks.jpg)"
   ]
  },
  {
   "cell_type": "code",
   "execution_count": 1,
   "id": "1e139879d9cae0c0",
   "metadata": {
    "ExecuteTime": {
     "end_time": "2025-09-24T05:16:51.986140Z",
     "start_time": "2025-09-24T05:16:47.989857Z"
    }
   },
   "outputs": [
    {
     "name": "stdout",
     "output_type": "stream",
     "text": [
      "n= 6\n",
      "1\n",
      "2\n",
      "3\n",
      "4\n",
      "5\n",
      "6\n"
     ]
    }
   ],
   "source": [
    "a=1\n",
    "n=int(input(\"n= \"))\n",
    "while a<=n: # True bo'lganda ishlaydi\n",
    "    print(a)\n",
    "    a+=1 # a+=1  -  a=a+1 ni ifodalaydi"
   ]
  },
  {
   "cell_type": "code",
   "execution_count": 7,
   "id": "bc9953038baf6d9c",
   "metadata": {},
   "outputs": [
    {
     "name": "stdout",
     "output_type": "stream",
     "text": [
      "ism = oybek\n",
      "Salom oybek !!!\n",
      "Salom oybek !!!\n",
      "Salom oybek !!!\n",
      "Salom oybek !!!\n",
      "Salom oybek !!!\n"
     ]
    }
   ],
   "source": [
    "a=1\n",
    "ism=input(\"ism = \")\n",
    "while a<=5: # True bo'lganda ishlaydi\n",
    "    print(f\"Salom {ism} !!!\")\n",
    "    a+=1\n",
    "    \n",
    "# 0 dan farqli har qanday son True bo'ladi. ( -89, 9, -100) bo'lishi mumkin\n"
   ]
  },
  {
   "cell_type": "markdown",
   "id": "e9de660088d0efb",
   "metadata": {},
   "source": [
    "## For - parametrli takrorlanuvhi operator\n",
    "### `start`: `stop` : `step`\n",
    "![attachments](https://files.realpython.com/media/UPDATE-Python-for-Loops-Definite-Iteration_Watermarked.32bfd8825dfe.jpg)"
   ]
  },
  {
   "cell_type": "code",
   "execution_count": 13,
   "id": "1715c172",
   "metadata": {},
   "outputs": [
    {
     "name": "stdout",
     "output_type": "stream",
     "text": [
      "0 1 2 3 4 5 6 7 8 9 "
     ]
    }
   ],
   "source": [
    "for i in range(10):\n",
    "    print(i, end=\" \")"
   ]
  },
  {
   "cell_type": "code",
   "execution_count": 14,
   "id": "170d53c9313e3def",
   "metadata": {
    "ExecuteTime": {
     "end_time": "2025-09-24T05:28:01.973523Z",
     "start_time": "2025-09-24T05:28:01.970863Z"
    }
   },
   "outputs": [
    {
     "name": "stdout",
     "output_type": "stream",
     "text": [
      "1 2 3 4 5 6 7 8 9 10 "
     ]
    }
   ],
   "source": [
    "for i in range(1, 11):\n",
    "    print(i, end=\" \")"
   ]
  },
  {
   "cell_type": "code",
   "execution_count": 17,
   "id": "ca9cbdbf2e6aaccd",
   "metadata": {
    "ExecuteTime": {
     "end_time": "2025-09-24T05:28:58.119210Z",
     "start_time": "2025-09-24T05:28:58.116357Z"
    }
   },
   "outputs": [
    {
     "name": "stdout",
     "output_type": "stream",
     "text": [
      "0 3 6 9 "
     ]
    }
   ],
   "source": [
    "for i in range(0,10,3):\n",
    "    print(i, end=\" \")"
   ]
  },
  {
   "cell_type": "code",
   "execution_count": 18,
   "id": "b44924db083049b",
   "metadata": {},
   "outputs": [
    {
     "name": "stdout",
     "output_type": "stream",
     "text": [
      "n= 2\n",
      "5\n",
      "4\n",
      "3\n"
     ]
    }
   ],
   "source": [
    "n=int(input(\"n= \"))\n",
    "for i in range(5,n,-1):\n",
    "    print(i)"
   ]
  },
  {
   "cell_type": "markdown",
   "id": "e3a0c411e0e1529f",
   "metadata": {},
   "source": [
    "## Nested For\n",
    "![atachments](https://pynative.com/wp-content/uploads/2021/06/python-nested-loop.png)"
   ]
  },
  {
   "cell_type": "code",
   "execution_count": 21,
   "id": "72de2287",
   "metadata": {},
   "outputs": [
    {
     "name": "stdout",
     "output_type": "stream",
     "text": [
      " *  *  *  *  *  *  *  *  *  * \n",
      " *  *  *  *  *  *  *  *  *  * \n",
      " *  *  *  *  *  *  *  *  *  * \n",
      " *  *  *  *  *  *  *  *  *  * \n",
      " *  *  *  *  *  *  *  *  *  * \n",
      " *  *  *  *  *  *  *  *  *  * \n",
      " *  *  *  *  *  *  *  *  *  * \n",
      " *  *  *  *  *  *  *  *  *  * \n",
      " *  *  *  *  *  *  *  *  *  * \n",
      " *  *  *  *  *  *  *  *  *  * \n"
     ]
    }
   ],
   "source": [
    "for i in range(1,11):\n",
    "    for j in range(1, 11):\n",
    "        print(\" * \", end=\"\")\n",
    "    print(\"\")"
   ]
  },
  {
   "cell_type": "code",
   "execution_count": 23,
   "id": "30b3e40faf142252",
   "metadata": {
    "ExecuteTime": {
     "end_time": "2025-09-24T05:42:37.224217Z",
     "start_time": "2025-09-24T05:42:37.221567Z"
    }
   },
   "outputs": [
    {
     "name": "stdout",
     "output_type": "stream",
     "text": [
      " *  *  *  *  * \n",
      " *  *  *  *  * \n",
      " *  *  *  *  * \n",
      " *  *  *  *  * \n",
      " *  *  *  *  * \n"
     ]
    }
   ],
   "source": [
    "# n,n o'lchamli jadval (matritsa)\n",
    "n=5\n",
    "for i in range(n):\n",
    "    for j in range(n):\n",
    "        print(\" * \", end=\"\")\n",
    "    print()"
   ]
  },
  {
   "cell_type": "code",
   "execution_count": 35,
   "id": "c4326539",
   "metadata": {},
   "outputs": [
    {
     "name": "stdout",
     "output_type": "stream",
     "text": [
      " *                                                                                                     * \n",
      "    *                                                                                               *    \n",
      "       *                                                                                         *       \n",
      "          *                                                                                   *          \n",
      "             *                                                                             *             \n",
      "                *                                                                       *                \n",
      "                   *                                                                 *                   \n",
      "                      *                                                           *                      \n",
      "                         *                                                     *                         \n",
      "                            *                                               *                            \n",
      "                               *                                         *                               \n",
      "                                  *                                   *                                  \n",
      "                                     *                             *                                     \n",
      "                                        *                       *                                        \n",
      "                                           *                 *                                           \n",
      "                                              *           *                                              \n",
      "                                                 *     *                                                 \n",
      "                                                    *                                                    \n",
      "                                                 *     *                                                 \n",
      "                                              *           *                                              \n",
      "                                           *                 *                                           \n",
      "                                        *                       *                                        \n",
      "                                     *                             *                                     \n",
      "                                  *                                   *                                  \n",
      "                               *                                         *                               \n",
      "                            *                                               *                            \n",
      "                         *                                                     *                         \n",
      "                      *                                                           *                      \n",
      "                   *                                                                 *                   \n",
      "                *                                                                       *                \n",
      "             *                                                                             *             \n",
      "          *                                                                                   *          \n",
      "       *                                                                                         *       \n",
      "    *                                                                                               *    \n",
      " *                                                                                                     * \n"
     ]
    }
   ],
   "source": [
    "n=35\n",
    "\n",
    "for i in range(n):\n",
    "    for j in range(n):\n",
    "        if j==n-1-i or j==i:\n",
    "            print(\" * \", end=\"\")\n",
    "        else:\n",
    "            print(\"   \", end=\"\")\n",
    "    print()\n",
    "    "
   ]
  },
  {
   "cell_type": "markdown",
   "id": "50544710057fb492",
   "metadata": {},
   "source": [
    "![atachments](https://media.geeksforgeeks.org/wp-content/uploads/20241228081639532079/2d-array.webp)"
   ]
  },
  {
   "cell_type": "code",
   "execution_count": 37,
   "id": "c3f9ce4206bf5f45",
   "metadata": {
    "ExecuteTime": {
     "end_time": "2025-09-24T05:43:07.786285Z",
     "start_time": "2025-09-24T05:43:07.783392Z"
    }
   },
   "outputs": [
    {
     "name": "stdout",
     "output_type": "stream",
     "text": [
      " *   *   *   *   *  \n",
      " *   *   *   *  \n",
      " *   *   *  \n",
      " *   *  \n",
      " *  \n"
     ]
    }
   ],
   "source": [
    "n=5\n",
    "for i in range(n):\n",
    "    for j in range(i, n):\n",
    "        print(\" * \", end=\" \")\n",
    "    print()"
   ]
  },
  {
   "cell_type": "code",
   "execution_count": 38,
   "id": "8415aa443b308e40",
   "metadata": {
    "ExecuteTime": {
     "end_time": "2025-09-24T05:48:55.782315Z",
     "start_time": "2025-09-24T05:48:55.776739Z"
    }
   },
   "outputs": [
    {
     "name": "stdout",
     "output_type": "stream",
     "text": [
      "             * \n",
      "          *  * \n",
      "       *  *  * \n",
      "    *  *  *  * \n",
      " *  *  *  *  * \n"
     ]
    }
   ],
   "source": [
    "n=5\n",
    "for i in range(n, 0, -1):\n",
    "    for j in range(i, 1, -1):\n",
    "        print(\"   \",end=\"\")\n",
    "    for j in range(i, n+1):\n",
    "        print(\" * \",end=\"\")\n",
    "    print()"
   ]
  },
  {
   "cell_type": "code",
   "execution_count": 41,
   "id": "a496ece74bdbdd66",
   "metadata": {
    "ExecuteTime": {
     "end_time": "2025-09-24T05:53:39.554719Z",
     "start_time": "2025-09-24T05:53:39.551560Z"
    }
   },
   "outputs": [
    {
     "name": "stdout",
     "output_type": "stream",
     "text": [
      " x  x  x  x  x \r\n",
      " x           x \r\n",
      " x           x \r\n",
      " x           x \r\n",
      " x  x  x  x  x \r\n"
     ]
    }
   ],
   "source": [
    "n=5\n",
    "for i in range(n):\n",
    "   for j in range(n):\n",
    "      if i == 0 or i == n-1 or j == 0 or j == n-1:\n",
    "         print(\" x \", end=\"\")\n",
    "      else:\n",
    "         print(\"   \", end=\"\")\n",
    "   print(\"\\r\")"
   ]
  },
  {
   "cell_type": "code",
   "execution_count": null,
   "id": "7ed28068",
   "metadata": {},
   "outputs": [],
   "source": []
  }
 ],
 "metadata": {
  "kernelspec": {
   "display_name": "Python 3 (ipykernel)",
   "language": "python",
   "name": "python3"
  },
  "language_info": {
   "codemirror_mode": {
    "name": "ipython",
    "version": 3
   },
   "file_extension": ".py",
   "mimetype": "text/x-python",
   "name": "python",
   "nbconvert_exporter": "python",
   "pygments_lexer": "ipython3",
   "version": "3.13.3"
  }
 },
 "nbformat": 4,
 "nbformat_minor": 5
}
