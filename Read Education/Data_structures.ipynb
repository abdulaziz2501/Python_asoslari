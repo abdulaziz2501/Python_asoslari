{
 "cells": [
  {
   "cell_type": "markdown",
   "id": "dbe3daeb",
   "metadata": {},
   "source": [
    "# data structures :\n",
    "\n",
    "- list - ro'yxat\n",
    "- tuple - kortej\n",
    "- set - toplam\n",
    "- dictionary - lug'at"
   ]
  },
  {
   "cell_type": "markdown",
   "id": "0eeb9f74",
   "metadata": {},
   "source": [
    "## Tuple \n",
    "\n",
    "![attachments](https://blog.finxter.com/wp-content/uploads/2020/08/tuple-1024x576.jpg)"
   ]
  },
  {
   "cell_type": "code",
   "execution_count": 2,
   "id": "3fc85f0c",
   "metadata": {
    "scrolled": true
   },
   "outputs": [
    {
     "name": "stdout",
     "output_type": "stream",
     "text": [
      "1\n",
      "2\n"
     ]
    }
   ],
   "source": [
    "# a=[]- qiymati yoq list\n",
    "# a=[] - list ga ma'lumot qo'shib bo'ladi\n",
    "# b=() - tuple o'zgarmas \n",
    "# c={} - set unique qiymat qoldiradi\n",
    "\n",
    "\n",
    "b=(45, \"ism\", True, 45)\n",
    "\n",
    "\n",
    "print(b.index(\"ism\")) # indexini qaytaradi\n",
    "\n",
    "print(b.count(45)) # element necha martta ishtirok etganini sanaydi"
   ]
  },
  {
   "cell_type": "markdown",
   "id": "a3039ea6",
   "metadata": {},
   "source": [
    "## Set\n",
    "\n",
    "![attachments](https://pynative.com/wp-content/uploads/2021/03/python-sets.jpg)"
   ]
  },
  {
   "cell_type": "code",
   "execution_count": 3,
   "id": "6067420b",
   "metadata": {},
   "outputs": [
    {
     "name": "stdout",
     "output_type": "stream",
     "text": [
      "<class 'set'> {64, 464, 3, 56, 9, 12}\n",
      "set()\n",
      "{0, 1, 2, 3, 4, 5, 6, 7, 8, 9}\n"
     ]
    }
   ],
   "source": [
    "c={12,56,64,9,464,9,9,9}\n",
    "\n",
    "c.add(3) # setga ma'lumot qo'shadi\n",
    "print(type(c), c)\n",
    "\n",
    "c.clear() # c.clear() -  butunlay hammasini o'chiradi\n",
    "\n",
    "print(c)\n",
    "for i in range(10):\n",
    "    c.add(i)\n",
    "    \n",
    "c.add(2)\n",
    "print(c)"
   ]
  },
  {
   "cell_type": "markdown",
   "id": "5d542c07",
   "metadata": {},
   "source": [
    "## List \n",
    "\n",
    "![attachments](https://www.scaler.com/topics/media/elements-in-python-list-1024x495.webp)"
   ]
  },
  {
   "cell_type": "code",
   "execution_count": 4,
   "id": "a4142b64",
   "metadata": {},
   "outputs": [
    {
     "name": "stdout",
     "output_type": "stream",
     "text": [
      "True\n",
      "['salom', 45, 85.64, True, False, (45, 6), 0, 1, 2, 3, 4, 5]\n",
      "['salom', 5, 4, 3, 2, 1, 0, 45, 85.64, True, False, (45, 6), 0, 1, 2, 3, 4, 5]\n",
      "['ism', 45]\n",
      "['ism']\n"
     ]
    }
   ],
   "source": [
    "a=[\"salom\", 45, 85.64, True, False, (45,6)]\n",
    "print(a[3])\n",
    "for i in range(6):\n",
    "    a.append(i) # append- list oxiriga qo'shib beradi.\n",
    "print(a)\n",
    "\n",
    "for i in range(6):\n",
    "    a.insert(1, i) # insert- aytilgan indexga qo'shib beradi.\n",
    "print(a)\n",
    "\n",
    "a=[\"ism\", 45, 78.36]\n",
    "a.pop() # berilgan indexdagi element ni olib tashlaydi.\n",
    "print(a)\n",
    "\n",
    "a.pop(a.index(45))\n",
    "print(a)\n"
   ]
  },
  {
   "cell_type": "code",
   "execution_count": 5,
   "id": "43f10cfc",
   "metadata": {},
   "outputs": [
    {
     "name": "stdout",
     "output_type": "stream",
     "text": [
      "so'zni kiriting: apple\n",
      "olma\n"
     ]
    }
   ],
   "source": [
    "# dictionary - lug'atlar\n",
    "# key : value - kalit so'z : uning qiymati\n",
    "\n",
    "# d={\n",
    "#     1: \"bir\",\n",
    "#     2: \"ikki\",\n",
    "#     3: \"uch\"\n",
    "#     }\n",
    "# a=int(input(\"sonni kiriting: \"))\n",
    "# print(d[a])\n",
    "\n",
    "d={\n",
    "    \"apple\": \"olma\",\n",
    "    \"book\": \"kitob\"\n",
    "}\n",
    "a=input(\"so'zni kiriting: \")\n",
    "print(d[a])"
   ]
  },
  {
   "cell_type": "markdown",
   "id": "698eac98",
   "metadata": {},
   "source": [
    "## Dictionary \n",
    "\n",
    "![attachments](https://www.programiz.com/sites/tutorial2program/files/python_dictionary-example.png)"
   ]
  },
  {
   "cell_type": "code",
   "execution_count": 6,
   "id": "1172abb8",
   "metadata": {},
   "outputs": [
    {
     "name": "stdout",
     "output_type": "stream",
     "text": [
      "so'zni kiriting: olma\n",
      "apple\n",
      "{'apple ': ' olma'}\n",
      "{'apple ': 'banan'}\n"
     ]
    }
   ],
   "source": [
    "eng=[\"apple\", \"book\", \"phone\", \"smart\"]\n",
    "uzb=[\"olma\", \"kitob\", \"telefon\", \"aqlli\"]\n",
    "c={}\n",
    "a=input(\"so'zni kiriting: \")\n",
    "\n",
    "for i in range(len(eng)):\n",
    "    c[uzb[i]] = eng[i]\n",
    "print(c[a])\n",
    "\n",
    "\n",
    "c={}\n",
    "a= \"    apple - olma    \"\n",
    "b=a.strip().split(\"-\")\n",
    "# print(b)\n",
    "\n",
    "\n",
    "c[b[0]]=b[1]\n",
    "print(c)\n",
    "c[b[0]]= \"banan\"\n",
    "print(c)\n"
   ]
  },
  {
   "cell_type": "code",
   "execution_count": 7,
   "id": "103d61de",
   "metadata": {},
   "outputs": [
    {
     "name": "stdout",
     "output_type": "stream",
     "text": [
      "{'apple': 'olma', 'book': 'kitob', 'phone': 'telefon', 'smart': 'aqlli'}\n",
      "dict_values(['olma', 'kitob', 'telefon', 'aqlli'])\n",
      "dict_keys(['apple', 'book', 'phone', 'smart'])\n",
      "dict_items([('apple', 'olma'), ('book', 'kitob'), ('phone', 'telefon'), ('smart', 'aqlli')])\n",
      "olma\n",
      "kitob\n",
      "telefon\n",
      "aqlli\n"
     ]
    }
   ],
   "source": [
    "eng=[\"apple\", \"book\", \"phone\", \"smart\"]\n",
    "uzb=[\"olma\", \"kitob\", \"telefon\", \"aqlli\"]\n",
    "c={}\n",
    "for i in range(len(eng)):\n",
    "    c[eng[i]] = uzb[i]\n",
    "\n",
    "print(c)\n",
    "\n",
    "\n",
    "a=c.values()\n",
    "b=c.keys()\n",
    "d=c.items()\n",
    "\n",
    "print(a)\n",
    "print(b)\n",
    "print(d)\n",
    "\n",
    "\n",
    "for i in c.values():\n",
    "    print(i)\n",
    "    \n"
   ]
  }
 ],
 "metadata": {
  "kernelspec": {
   "display_name": "Python 3 (ipykernel)",
   "language": "python",
   "name": "python3"
  },
  "language_info": {
   "codemirror_mode": {
    "name": "ipython",
    "version": 3
   },
   "file_extension": ".py",
   "mimetype": "text/x-python",
   "name": "python",
   "nbconvert_exporter": "python",
   "pygments_lexer": "ipython3",
   "version": "3.13.3"
  }
 },
 "nbformat": 4,
 "nbformat_minor": 5
}
