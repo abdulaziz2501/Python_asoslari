{
 "cells": [
  {
   "attachments": {
    "21bea91d-3acd-4f66-bfa0-42f9e69ca4d8.png": {
     "image/png": "[encoded data removed]"
    }
   },
   "cell_type": "markdown",
   "id": "4ef54252839edd84",
   "metadata": {},
   "source": [
    "# If else - shart operatorlari\n",
    "\n",
    "![image.png](attachment:21bea91d-3acd-4f66-bfa0-42f9e69ca4d8.png)"
   ]
  },
  {
   "cell_type": "markdown",
   "id": "6d6e010f03c02367",
   "metadata": {},
   "source": [
    "## Kichkina sonni aniqlash"
   ]
  },
  {
   "cell_type": "code",
   "execution_count": 2,
   "id": "initial_id",
   "metadata": {
    "ExecuteTime": {
     "end_time": "2025-09-20T05:02:18.546402Z",
     "start_time": "2025-09-20T05:02:13.669603Z"
    },
    "collapsed": true
   },
   "outputs": [
    {
     "name": "stdout",
     "output_type": "stream",
     "text": [
      "12 kichkina 321 dan.\n"
     ]
    }
   ],
   "source": [
    "a=int(input(\"A sonini kiriting: \"))\n",
    "b=int(input(\"B sonini kiriting: \"))\n",
    "\n",
    "# if - agar degan ma'noda\n",
    "# else -  aks holda ma'noni anglatadi\n",
    "\n",
    "if (a>b) : # true bo'lgan holda ishga tushadi\n",
    "    print(f\"{b} kichkina {a} dan.\")\n",
    "else:\n",
    "    print(f\"{a} kichkina {b} dan.\")"
   ]
  },
  {
   "cell_type": "markdown",
   "id": "7c0f93e1a8aec826",
   "metadata": {},
   "source": [
    "## Musbat va manfiy sonnlarni aniqlash:"
   ]
  },
  {
   "cell_type": "code",
   "execution_count": 3,
   "id": "570135770a5d7b14",
   "metadata": {
    "ExecuteTime": {
     "end_time": "2025-09-20T05:09:16.881737Z",
     "start_time": "2025-09-20T05:09:10.707533Z"
    }
   },
   "outputs": [
    {
     "name": "stdout",
     "output_type": "stream",
     "text": [
      "23 - musbat son\n"
     ]
    }
   ],
   "source": [
    "# elif- aks holda agar degani\n",
    "\n",
    "a=int(input(\"A sonini kiriting: \"))\n",
    "\n",
    "if (a==0): # true\n",
    "    print(f\"{a} nolga teng.\")\n",
    "elif (a>0):\n",
    "    print(f\"{a} - musbat son\")\n",
    "else:\n",
    "    print(f\"{a} - manfiy son\")"
   ]
  },
  {
   "cell_type": "code",
   "execution_count": null,
   "id": "e4bb6095ae140f2",
   "metadata": {},
   "outputs": [],
   "source": [
    "print(\"salom \"*3) # string ni ko'paytirish natija - salom salom salom"
   ]
  },
  {
   "cell_type": "markdown",
   "id": "537cd5c286b682b4",
   "metadata": {},
   "source": [
    "## Mantiqiy shartlar"
   ]
  },
  {
   "cell_type": "code",
   "execution_count": 4,
   "id": "5b55ffd1e5607e34",
   "metadata": {
    "ExecuteTime": {
     "end_time": "2025-09-20T05:09:20.876331Z",
     "start_time": "2025-09-20T05:09:20.874155Z"
    }
   },
   "outputs": [
    {
     "name": "stdout",
     "output_type": "stream",
     "text": [
      "hayr\n"
     ]
    }
   ],
   "source": [
    "# and - va\n",
    "# or - yoki\n",
    "# not - inkor, emas\n",
    "# not and - va emas\n",
    "# not or - yoki emas\n",
    "\n",
    "if not True:\n",
    "    print(\"salom\")\n",
    "else:\n",
    "    print(\"hayr\")"
   ]
  },
  {
   "cell_type": "markdown",
   "id": "a17097b9743e32a2",
   "metadata": {},
   "source": [
    "## Yosh chegaralari"
   ]
  },
  {
   "cell_type": "code",
   "execution_count": 6,
   "id": "5bf506a9e91c7b21",
   "metadata": {
    "ExecuteTime": {
     "end_time": "2025-09-20T05:09:37.432236Z",
     "start_time": "2025-09-20T05:09:34.536701Z"
    }
   },
   "outputs": [
    {
     "name": "stdout",
     "output_type": "stream",
     "text": [
      "maktab yoshi\n"
     ]
    }
   ],
   "source": [
    "a=int(input(\"yoshingizni kiriting: \"))\n",
    "if (a>=18 and a<=40):\n",
    "    print(\"voyaga yetgan\")\n",
    "elif (a>40 and a<70):\n",
    "    print(\"qarilik yoshi\")\n",
    "elif (a>0 and a<7):\n",
    "    print(\"bolalik\")\n",
    "elif(a>=7 and a<18):\n",
    "    print(\"maktab yoshi\")\n",
    "else:\n",
    "    print(\"bunday yosh mavjud emas !!!\")"
   ]
  },
  {
   "cell_type": "markdown",
   "id": "815d8af14c22a2c9",
   "metadata": {},
   "source": [
    "## Mantiqiy masala"
   ]
  },
  {
   "cell_type": "code",
   "execution_count": 7,
   "id": "55a25ed7d7575f8b",
   "metadata": {
    "ExecuteTime": {
     "end_time": "2025-09-20T05:09:40.527730Z",
     "start_time": "2025-09-20T05:09:40.525402Z"
    }
   },
   "outputs": [
    {
     "name": "stdout",
     "output_type": "stream",
     "text": [
      "false\n"
     ]
    }
   ],
   "source": [
    "a=24\n",
    "b=4\n",
    "if (a%b==0 and (a%6==0 and a<b)):\n",
    "    print(\"true\")\n",
    "else:\n",
    "    print(\"false\")"
   ]
  }
 ],
 "metadata": {
  "kernelspec": {
   "display_name": "Python 3 (ipykernel)",
   "language": "python",
   "name": "python3"
  },
  "language_info": {
   "codemirror_mode": {
    "name": "ipython",
    "version": 3
   },
   "file_extension": ".py",
   "mimetype": "text/x-python",
   "name": "python",
   "nbconvert_exporter": "python",
   "pygments_lexer": "ipython3",
   "version": "3.13.3"
  }
 },
 "nbformat": 4,
 "nbformat_minor": 5
}
