{
 "cells": [
  {
   "cell_type": "markdown",
   "id": "6f782a34",
   "metadata": {},
   "source": [
    "## List methodlari"
   ]
  },
  {
   "cell_type": "code",
   "execution_count": null,
   "id": "e271da41",
   "metadata": {},
   "outputs": [],
   "source": [
    "# append() -> ro‘yxat oxiriga element qo‘shadi\n",
    "mevalar = [\"olma\", \"banan\"]\n",
    "mevalar.append(\"nok\")\n",
    "print(mevalar)  # ['olma', 'banan', 'nok']\n",
    "\n",
    "# extend() -> boshqa ro‘yxat elementlarini qo‘shadi\n",
    "mevalar.extend([\"shaftoli\", \"gilos\"])\n",
    "print(mevalar)  # ['olma', 'banan', 'nok', 'shaftoli', 'gilos']\n",
    "\n",
    "# insert() -> berilgan indeksga element qo‘shadi\n",
    "mevalar.insert(1, \"anjir\")\n",
    "print(mevalar)  # ['olma', 'anjir', 'banan', 'nok', 'shaftoli', 'gilos']\n",
    "\n",
    "# remove() -> qiymat bo‘yicha elementni o‘chiradi\n",
    "mevalar.remove(\"banan\")\n",
    "print(mevalar)  # ['olma', 'anjir', 'nok', 'shaftoli', 'gilos']\n",
    "\n",
    "# pop() -> indeks bo‘yicha elementni o‘chiradi va qaytaradi\n",
    "olingan = mevalar.pop(2)\n",
    "print(olingan)  # 'nok'\n",
    "print(mevalar)  # ['olma', 'anjir', 'shaftoli', 'gilos']\n",
    "\n",
    "# clear() -> hamma elementlarni o‘chiradi\n",
    "mevalar.clear()\n",
    "print(mevalar)  # []\n",
    "\n",
    "# index() -> qiymatning indeksini qaytaradi\n",
    "raqamlar = [10, 20, 30, 20]\n",
    "print(raqamlar.index(20))  # 1\n",
    "\n",
    "# count() -> qiymat nechta marta uchrashini qaytaradi\n",
    "print(raqamlar.count(20))  # 2\n",
    "\n",
    "# sort() -> elementlarni tartiblaydi\n",
    "raqamlar.sort()\n",
    "print(raqamlar)  # [10, 20, 20, 30]\n",
    "\n",
    "# reverse() -> ro‘yxatni teskari aylantiradi\n",
    "raqamlar.reverse()\n",
    "print(raqamlar)  # [30, 20, 20, 10]\n",
    "\n",
    "# copy() -> ro‘yxatning nusxasini qaytaradi\n",
    "yangi = raqamlar.copy()\n",
    "print(yangi)  # [30, 20, 20, 10]\n"
   ]
  },
  {
   "cell_type": "markdown",
   "id": "9994cab9",
   "metadata": {},
   "source": [
    "## Set methodlari"
   ]
  },
  {
   "cell_type": "code",
   "execution_count": null,
   "id": "e06d2bcf",
   "metadata": {},
   "outputs": [],
   "source": [
    "# add() -> element qo‘shadi\n",
    "sonlar = {1, 2, 3}\n",
    "sonlar.add(4)\n",
    "print(sonlar)  # {1, 2, 3, 4}\n",
    "\n",
    "# update() -> bir nechta element qo‘shadi\n",
    "sonlar.update([5, 6])\n",
    "print(sonlar)  # {1, 2, 3, 4, 5, 6}\n",
    "\n",
    "# remove() -> elementni o‘chiradi (agar yo‘q bo‘lsa xatolik beradi)\n",
    "sonlar.remove(6)\n",
    "print(sonlar)  # {1, 2, 3, 4, 5}\n",
    "\n",
    "# discard() -> elementni o‘chiradi (agar yo‘q bo‘lsa xato chiqarmaydi)\n",
    "sonlar.discard(10)\n",
    "print(sonlar)  # {1, 2, 3, 4, 5}\n",
    "\n",
    "# pop() -> to‘plamdan tasodifiy elementni o‘chiradi va qaytaradi\n",
    "print(sonlar.pop())\n",
    "\n",
    "# clear() -> hammasini o‘chiradi\n",
    "sonlar.clear()\n",
    "print(sonlar)  # set()\n",
    "\n",
    "# union() -> ikkita setni birlashtiradi\n",
    "a = {1, 2}\n",
    "b = {2, 3}\n",
    "print(a.union(b))  # {1, 2, 3}\n",
    "\n",
    "# intersection() -> kesishmani qaytaradi\n",
    "print(a.intersection(b))  # {2}\n",
    "\n",
    "# difference() -> farqni qaytaradi\n",
    "print(a.difference(b))  # {1}\n",
    "\n",
    "# symmetric_difference() -> farqli elementlarni qaytaradi\n",
    "print(a.symmetric_difference(b))  # {1, 3}\n",
    "\n",
    "# issubset() -> boshqa set ichida bor-yo‘qligini tekshiradi\n",
    "print({1, 2}.issubset(a))  # True\n",
    "\n",
    "# issuperset() -> boshqa setni o‘z ichiga olishini tekshiradi\n",
    "print(a.issuperset({1}))  # True\n",
    "\n",
    "# isdisjoint() -> hech qanday umumiy element yo‘qligini tekshiradi\n",
    "print(a.isdisjoint({5, 6}))  # True\n"
   ]
  },
  {
   "cell_type": "markdown",
   "id": "225b3df0",
   "metadata": {},
   "source": [
    "## Tuple methodlari"
   ]
  },
  {
   "cell_type": "code",
   "execution_count": null,
   "id": "33864f5b",
   "metadata": {},
   "outputs": [],
   "source": [
    "# count() -> qiymat nechta marta uchrashini qaytaradi\n",
    "raqamlar = (1, 2, 2, 3, 2)\n",
    "print(raqamlar.count(2))  # 3\n",
    "\n",
    "# index() -> qiymatning birinchi indeksini qaytaradi\n",
    "print(raqamlar.index(3))  # 3\n"
   ]
  },
  {
   "cell_type": "markdown",
   "id": "3e10c18c",
   "metadata": {},
   "source": [
    "## Dictionary methodlari"
   ]
  },
  {
   "cell_type": "code",
   "execution_count": null,
   "id": "e91bbc86",
   "metadata": {},
   "outputs": [],
   "source": [
    "# get() -> kalit qiymatini qaytaradi (bo‘lmasa None)\n",
    "talaba = {\"ism\": \"Aziz\", \"yosh\": 20}\n",
    "print(talaba.get(\"ism\"))   # Aziz\n",
    "\n",
    "# keys() -> kalitlar ro‘yxatini qaytaradi\n",
    "print(talaba.keys())  # dict_keys(['ism', 'yosh'])\n",
    "\n",
    "# values() -> qiymatlar ro‘yxatini qaytaradi\n",
    "print(talaba.values())  # dict_values(['Aziz', 20])\n",
    "\n",
    "# items() -> kalit-qiymat juftliklarini qaytaradi\n",
    "print(talaba.items())  # dict_items([('ism', 'Aziz'), ('yosh', 20)])\n",
    "\n",
    "# update() -> yangi qiymat qo‘shadi yoki o‘zgartiradi\n",
    "talaba.update({\"kurs\": 2})\n",
    "print(talaba)  # {'ism': 'Aziz', 'yosh': 20, 'kurs': 2}\n",
    "\n",
    "# pop() -> kalit bo‘yicha qiymatni o‘chiradi\n",
    "talaba.pop(\"yosh\")\n",
    "print(talaba)  # {'ism': 'Aziz', 'kurs': 2}\n",
    "\n",
    "# popitem() -> oxirgi kalit-qiymatni o‘chiradi va qaytaradi\n",
    "print(talaba.popitem())  # ('kurs', 2)\n",
    "\n",
    "# setdefault() -> kalit mavjud bo‘lmasa yangi qo‘shadi\n",
    "talaba.setdefault(\"yosh\", 21)\n",
    "print(talaba)  # {'ism': 'Aziz', 'yosh': 21}\n",
    "\n",
    "# fromkeys() -> yangi dictionary yaratadi\n",
    "yangi = dict.fromkeys([\"a\", \"b\", \"c\"], 0)\n",
    "print(yangi)  # {'a': 0, 'b': 0, 'c': 0}\n",
    "\n",
    "# copy() -> dictionary nusxasini qaytaradi\n",
    "nusxa = talaba.copy()\n",
    "print(nusxa)  # {'ism': 'Aziz', 'yosh': 21}\n",
    "\n",
    "# clear() -> hamma elementlarni o‘chiradi\n",
    "talaba.clear()\n",
    "print(talaba)  # {}\n"
   ]
  }
 ],
 "metadata": {
  "kernelspec": {
   "display_name": "Python 3 (ipykernel)",
   "language": "python",
   "name": "python3"
  },
  "language_info": {
   "codemirror_mode": {
    "name": "ipython",
    "version": 3
   },
   "file_extension": ".py",
   "mimetype": "text/x-python",
   "name": "python",
   "nbconvert_exporter": "python",
   "pygments_lexer": "ipython3",
   "version": "3.13.3"
  }
 },
 "nbformat": 4,
 "nbformat_minor": 5
}
