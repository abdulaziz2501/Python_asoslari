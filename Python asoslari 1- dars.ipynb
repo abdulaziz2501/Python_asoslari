{
 "cells": [
  {
   "cell_type": "markdown",
   "id": "c85a5ac4",
   "metadata": {},
   "source": [
    "# Python asoslari 1- dars\n",
    "\n",
    "---\n",
    "\n",
    "- ## Data types\n",
    "- ## f-string\n",
    "- ## Foydalanuvchi tomonidan qiymat kiritish\n",
    "- ## Hisoblash amallari\n",
    "- ## Taqqoslash amallari\n",
    "\n",
    "---"
   ]
  },
  {
   "cell_type": "markdown",
   "id": "4b9f1fda",
   "metadata": {},
   "source": [
    "# Data types\n",
    "\n",
    "* variable - o'zgaruvchi istalgan nomda bo'lishi mumkin\n",
    "* symbol ishlatib o'zgaruvchilarni yaratib bo'lmaydi faqat `_` chiziq ishlatsa bo'ladi\n"
   ]
  },
  {
   "cell_type": "code",
   "id": "00789430",
   "metadata": {
    "ExecuteTime": {
     "end_time": "2025-09-19T10:50:14.871735Z",
     "start_time": "2025-09-19T10:50:14.869171Z"
    }
   },
   "source": [
    "from orca.brltablenames import GR_GR_G1\n",
    "\n",
    "a=15 # integer - butun sonlar (int)\n",
    "b=23.3 # float - haqiqiy sonlar\n",
    "c=True # boolean - mantiqiy (true = 1 , false = 0)\n",
    "str1=\"Salom\" # string - matnlar\n",
    "str2='Salom'\n",
    "str3='O\\'zbekiston' # ' - bir tirnog'dan foydalanganda \\ backslash ishlatamiz\n",
    "str4=\"O'zbekiston\"\n",
    "print(\"yoshim\", 25, \"da\", sep=\" + \") # separator oraliqdagi belgi default - space ga teng\n",
    "print(\"yoshim\", 25, \"da\", end=\". \") # end oxiridagi belgi default - \\n  ga teng\n",
    "print(\"salom\")"
   ],
   "outputs": [
    {
     "name": "stdout",
     "output_type": "stream",
     "text": [
      "yoshim + 25 + da\n",
      "yoshim 25 da. salom\n"
     ]
    }
   ],
   "execution_count": 23
  },
  {
   "cell_type": "markdown",
   "id": "557799f9",
   "metadata": {},
   "source": [
    "# f-string \n",
    "\n",
    "- ` \\n ` new line"
   ]
  },
  {
   "cell_type": "code",
   "id": "19b06a5b",
   "metadata": {
    "ExecuteTime": {
     "end_time": "2025-09-19T10:53:25.891484Z",
     "start_time": "2025-09-19T10:53:25.888925Z"
    }
   },
   "source": [
    "ismi=\"Abdulaziz\" # string - matnlar\n",
    "yoshi=18 # Integer - butun sonalar\n",
    "boyi=171.5 # float - haqiqiy son\n",
    "\n",
    "print(f\"\"\"\n",
    "ismi-{ismi}\n",
    "yoshi-{yoshi}\n",
    "boyi-{boyi}\n",
    "\"\"\") # \"\"\"    \"\"\" 3ta li qo'sh tirnoq\n",
    "\n",
    "print(\"Yoshingiz-\", yoshi)\n",
    "print(\"Bo'yingiz-\", boyi, \"sm\")\n",
    "print(\"Ismingiz-\", ismi)"
   ],
   "outputs": [
    {
     "name": "stdout",
     "output_type": "stream",
     "text": [
      "\n",
      "ismi-Abdulaziz\n",
      "yoshi-18\n",
      "boyi-171.5\n",
      "\n",
      "Yoshingiz- 18\n",
      "Bo'yingiz- 171.5 sm\n",
      "Ismingiz- Abdulaziz\n"
     ]
    }
   ],
   "execution_count": 28
  },
  {
   "cell_type": "markdown",
   "id": "01016096",
   "metadata": {},
   "source": [
    "# Foydalanuvchi tomonidan qiymat kiritish\n",
    "- `\\t` - tab ya'ni 4 ta space ` `"
   ]
  },
  {
   "cell_type": "code",
   "id": "7d6f8efb",
   "metadata": {
    "ExecuteTime": {
     "end_time": "2025-09-19T11:10:18.366204Z",
     "start_time": "2025-09-19T11:10:03.452067Z"
    }
   },
   "source": [
    "# a=input(\"Ismingizni kiriting: \")\n",
    "# print(f\"Salom {a}\")\n",
    "# print(type(a))\n",
    "\n",
    "# Shift + a\n",
    "# b= int(input(\"yoshingizni kiriting: \"))\n",
    "# print(type(b), b)\n",
    "print(ismi)\n",
    "#\n",
    "c= float(input(\"boyingizni kiriting: \"))\n",
    "print(type(c), c)"
   ],
   "outputs": [
    {
     "name": "stdout",
     "output_type": "stream",
     "text": [
      "Abdulaziz\n",
      "<class 'float'> 35.2\n"
     ]
    }
   ],
   "execution_count": 37
  },
  {
   "cell_type": "markdown",
   "id": "bde531b5",
   "metadata": {},
   "source": [
    "# Hisoblash amallari"
   ]
  },
  {
   "cell_type": "code",
   "id": "0d70f8e1",
   "metadata": {
    "ExecuteTime": {
     "end_time": "2025-09-19T11:16:19.271983Z",
     "start_time": "2025-09-19T11:16:19.269585Z"
    }
   },
   "source": [
    "\n",
    "a=13\n",
    "b=5\n",
    "\n",
    "# a+b yig'indi\n",
    "# a-b ayirma\n",
    "# a*b ko'paytma\n",
    "# a/b bo'linma\n",
    "\n",
    "# c=2.4\n",
    "# c=int(c)\n",
    "# print(c)\n",
    "\n",
    "# a//b - bo'lib butun sonni qaytaradi 12//5= 2\n",
    "# a%b - qoldiq qismini qaytaradi 13%5=3\n",
    "# a**b - a ning b inchi darajasi 5**2=25\n",
    "\n",
    "print(a//b) # natija 2\n",
    "print(a%b) # natija 3\n",
    "print(a**b) # natija 371293\n",
    "\n",
    "\n",
    "\n"
   ],
   "outputs": [
    {
     "name": "stdout",
     "output_type": "stream",
     "text": [
      "2\n",
      "3\n",
      "371293\n"
     ]
    }
   ],
   "execution_count": 41
  },
  {
   "cell_type": "markdown",
   "id": "fe317d99",
   "metadata": {},
   "source": [
    "# Taqqoslash amallari\n",
    " chiqqan natija `boolean` qiymat qaytaradi ya'ni `True` yoki `False`"
   ]
  },
  {
   "cell_type": "code",
   "execution_count": null,
   "id": "01d89dd9",
   "metadata": {},
   "outputs": [],
   "source": [
    "a=13\n",
    "b=12\n",
    "\n",
    "# a==b # False\n",
    "# a>b # True\n",
    "# a<b # False\n",
    "# a!>b # False\n",
    "# a!<b # True\n",
    "\n",
    "# a>=b # True\n",
    "# a<=b # False\n",
    "# a!=b # True\n",
    "\n",
    "print(a==b) # natija False"
   ]
  }
 ],
 "metadata": {
  "kernelspec": {
   "display_name": "Python 3 (ipykernel)",
   "language": "python",
   "name": "python3"
  },
  "language_info": {
   "codemirror_mode": {
    "name": "ipython",
    "version": 3
   },
   "file_extension": ".py",
   "mimetype": "text/x-python",
   "name": "python",
   "nbconvert_exporter": "python",
   "pygments_lexer": "ipython3",
   "version": "3.13.3"
  }
 },
 "nbformat": 4,
 "nbformat_minor": 5
}
