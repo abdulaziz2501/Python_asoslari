{
 "cells": [
  {
   "cell_type": "markdown",
   "id": "7bb43c75745b78ca",
   "metadata": {},
   "source": [
    " # Nested if-else"
   ]
  },
  {
   "cell_type": "code",
   "execution_count": 1,
   "id": "fab693d0833e6df1",
   "metadata": {
    "ExecuteTime": {
     "end_time": "2025-09-24T05:07:29.429152Z",
     "start_time": "2025-09-24T05:07:22.868678Z"
    }
   },
   "outputs": [
    {
     "name": "stdout",
     "output_type": "stream",
     "text": [
      "qoniqarli\n"
     ]
    }
   ],
   "source": [
    "a=int(input(\"ballingizni kiriting: \"))\n",
    "\n",
    "if a>=60 and a<=100:\n",
    "    if a>=90:\n",
    "        print(\"A'lo\")\n",
    "    elif a>=70:\n",
    "        print(\"qoniqarli\")\n",
    "    else:\n",
    "        print(\"qoniqarsiz\")\n",
    "else:\n",
    "    print(\"olmaydi\")"
   ]
  },
  {
   "cell_type": "code",
   "execution_count": 2,
   "id": "ae519b4186f68bd1",
   "metadata": {
    "ExecuteTime": {
     "end_time": "2025-09-24T05:08:41.583322Z",
     "start_time": "2025-09-24T05:08:41.581292Z"
    }
   },
   "outputs": [
    {
     "name": "stdout",
     "output_type": "stream",
     "text": [
      "10\n"
     ]
    }
   ],
   "source": [
    "b=\"0123456789\"\n",
    "a=len(b)\n",
    "print(a)"
   ]
  },
  {
   "cell_type": "markdown",
   "id": "c3696cb1ffffe5c1",
   "metadata": {},
   "source": [
    "# Loop - While, For\n",
    "## Bular takrorlanuvchi operatorlar"
   ]
  },
  {
   "cell_type": "markdown",
   "id": "ba4f14038e4d7720",
   "metadata": {},
   "source": [
    "## While - takrorlanuvchi operator\n",
    "![attachments](https://media.geeksforgeeks.org/wp-content/uploads/20240214162718/While-Loop-GeeksforGeeks.jpg)"
   ]
  },
  {
   "cell_type": "code",
   "execution_count": 3,
   "id": "1e139879d9cae0c0",
   "metadata": {
    "ExecuteTime": {
     "end_time": "2025-09-24T05:16:51.986140Z",
     "start_time": "2025-09-24T05:16:47.989857Z"
    }
   },
   "outputs": [
    {
     "name": "stdout",
     "output_type": "stream",
     "text": [
      "1\n",
      "2\n",
      "3\n",
      "4\n"
     ]
    }
   ],
   "source": [
    "a=1\n",
    "n=int(input(\"n= \"))\n",
    "while a<=n: # True bo'lganda ishlaydi\n",
    "    print(a)\n",
    "    a+=1 # a+=1  -  a=a+1 ni ifodalaydi"
   ]
  },
  {
   "cell_type": "code",
   "execution_count": null,
   "id": "bc9953038baf6d9c",
   "metadata": {},
   "outputs": [],
   "source": [
    "a=1\n",
    "n=int(input(\"n= \"))\n",
    "while a<=n: # True bo'lganda ishlaydi\n",
    "    if a%2: # 0 dan farqli son True ga teng\n",
    "        print(a)\n",
    "    a+=1"
   ]
  },
  {
   "cell_type": "markdown",
   "id": "e9de660088d0efb",
   "metadata": {},
   "source": [
    "## For - parametrli takrorlanuvhi operator\n",
    "![attachments](https://files.realpython.com/media/UPDATE-Python-for-Loops-Definite-Iteration_Watermarked.32bfd8825dfe.jpg)"
   ]
  },
  {
   "cell_type": "code",
   "execution_count": 5,
   "id": "170d53c9313e3def",
   "metadata": {
    "ExecuteTime": {
     "end_time": "2025-09-24T05:28:01.973523Z",
     "start_time": "2025-09-24T05:28:01.970863Z"
    }
   },
   "outputs": [
    {
     "name": "stdout",
     "output_type": "stream",
     "text": [
      "1 2 3 4 5 6 7 8 9 "
     ]
    }
   ],
   "source": [
    "for i in range(1,10):\n",
    "    print(i, end=\" \")"
   ]
  },
  {
   "cell_type": "code",
   "execution_count": 8,
   "id": "ca9cbdbf2e6aaccd",
   "metadata": {
    "ExecuteTime": {
     "end_time": "2025-09-24T05:28:58.119210Z",
     "start_time": "2025-09-24T05:28:58.116357Z"
    }
   },
   "outputs": [
    {
     "name": "stdout",
     "output_type": "stream",
     "text": [
      "1 3 5 7 9 "
     ]
    }
   ],
   "source": [
    "for i in range(1,10,2):\n",
    "    print(i, end=\" \")"
   ]
  },
  {
   "cell_type": "code",
   "execution_count": null,
   "id": "b44924db083049b",
   "metadata": {},
   "outputs": [],
   "source": [
    "n=int(input(\"n= \"))\n",
    "for i in range(5,n,-1):\n",
    "    print(i)"
   ]
  },
  {
   "cell_type": "code",
   "execution_count": null,
   "id": "90ff164f00d3311f",
   "metadata": {},
   "outputs": [],
   "source": []
  },
  {
   "cell_type": "markdown",
   "id": "e3a0c411e0e1529f",
   "metadata": {},
   "source": []
  },
  {
   "cell_type": "code",
   "execution_count": null,
   "id": "2ae90ea9d410e4cf",
   "metadata": {},
   "outputs": [],
   "source": []
  }
 ],
 "metadata": {
  "kernelspec": {
   "display_name": "Python 3 (ipykernel)",
   "language": "python",
   "name": "python3"
  },
  "language_info": {
   "codemirror_mode": {
    "name": "ipython",
    "version": 3
   },
   "file_extension": ".py",
   "mimetype": "text/x-python",
   "name": "python",
   "nbconvert_exporter": "python",
   "pygments_lexer": "ipython3",
   "version": "3.13.3"
  }
 },
 "nbformat": 4,
 "nbformat_minor": 5
}
