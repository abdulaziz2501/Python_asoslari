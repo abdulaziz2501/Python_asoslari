{
 "cells": [
  {
   "cell_type": "markdown",
   "id": "_u1q8dV6qN3z",
   "metadata": {
    "id": "_u1q8dV6qN3z"
   },
   "source": [
    "# `String method` lari\n",
    "\n"
   ]
  },
  {
   "cell_type": "markdown",
   "id": "52706aff",
   "metadata": {
    "id": "52706aff"
   },
   "source": [
    "## `capitalize`\n",
    "Birinchi harfni **katta**, qolganini **kichik** qiladi."
   ]
  },
  {
   "cell_type": "code",
   "execution_count": 1,
   "id": "92af91f1",
   "metadata": {},
   "outputs": [
    {
     "name": "stdout",
     "output_type": "stream",
     "text": [
      "Hello World !!!\n"
     ]
    }
   ],
   "source": [
    "print(\"Hello World !!!\")"
   ]
  },
  {
   "cell_type": "code",
   "execution_count": 2,
   "id": "2e0ed1f1",
   "metadata": {
    "colab": {
     "base_uri": "https://localhost:8080/",
     "height": 0
    },
    "id": "2e0ed1f1",
    "outputId": "3f781f97-965c-4b7a-f4a3-1b2f8333d36b"
   },
   "outputs": [
    {
     "name": "stdout",
     "output_type": "stream",
     "text": [
      "Hello\tworld\n"
     ]
    }
   ],
   "source": [
    "str = \"  hello\\tworld  \"\n",
    "result = str.strip().capitalize()\n",
    "print(result)"
   ]
  },
  {
   "cell_type": "markdown",
   "id": "281f9263",
   "metadata": {
    "id": "281f9263"
   },
   "source": [
    "## `casefold`\n",
    "`lower()` dan kuchliroq, taqqoslashlar uchun qulay."
   ]
  },
  {
   "cell_type": "code",
   "execution_count": 3,
   "id": "33c0afd6",
   "metadata": {
    "colab": {
     "base_uri": "https://localhost:8080/",
     "height": 0
    },
    "id": "33c0afd6",
    "outputId": "dc38d697-4617-40a8-bfe7-4690b84a8a0b"
   },
   "outputs": [
    {
     "name": "stdout",
     "output_type": "stream",
     "text": [
      "i̇stanbul – naïve café\n"
     ]
    }
   ],
   "source": [
    "str = \"İstanbul – naïve café\"\n",
    "result = str.casefold()\n",
    "print(result)"
   ]
  },
  {
   "cell_type": "markdown",
   "id": "f0b7209d",
   "metadata": {
    "id": "f0b7209d"
   },
   "source": [
    "## `center` Matnni berilgan kenglikda **markazga** joylaydi."
   ]
  },
  {
   "cell_type": "code",
   "execution_count": 50,
   "id": "bf210bc1",
   "metadata": {
    "colab": {
     "base_uri": "https://localhost:8080/",
     "height": 0
    },
    "id": "bf210bc1",
    "outputId": "ba435e2c-881e-4783-ad20-cc65d4b7b649"
   },
   "outputs": [
    {
     "name": "stdout",
     "output_type": "stream",
     "text": [
      "*****hi*****\n"
     ]
    }
   ],
   "source": [
    "str = \"hi\"\n",
    "result = str.center(12, \"*\")\n",
    "print(result)"
   ]
  },
  {
   "cell_type": "markdown",
   "id": "4277bc7b",
   "metadata": {
    "id": "4277bc7b"
   },
   "source": [
    "## `count`\n",
    "Substring necha marta uchrashini **sanaydi**."
   ]
  },
  {
   "cell_type": "code",
   "execution_count": 5,
   "id": "4e5f301e",
   "metadata": {
    "colab": {
     "base_uri": "https://localhost:8080/",
     "height": 0
    },
    "id": "4e5f301e",
    "outputId": "832c6221-005c-46cc-9c2f-558138d4794b"
   },
   "outputs": [
    {
     "name": "stdout",
     "output_type": "stream",
     "text": [
      "3\n"
     ]
    }
   ],
   "source": [
    "str = \"hello world\"\n",
    "result = str.count(\"l\")\n",
    "print(result)"
   ]
  },
  {
   "cell_type": "markdown",
   "id": "3fc380ce",
   "metadata": {
    "id": "3fc380ce"
   },
   "source": [
    "## `encode`\n",
    " Matnni **bytes** ko‘rinishiga o‘tkazadi."
   ]
  },
  {
   "cell_type": "code",
   "execution_count": 6,
   "id": "6f9da8de",
   "metadata": {
    "colab": {
     "base_uri": "https://localhost:8080/",
     "height": 0
    },
    "id": "6f9da8de",
    "outputId": "cfa9317c-32e1-4799-9767-c718bb53fa00"
   },
   "outputs": [
    {
     "name": "stdout",
     "output_type": "stream",
     "text": [
      "b'\\xc4\\xb0stanbul \\xe2\\x80\\x93 na\\xc3\\xafve caf\\xc3\\xa9'\n"
     ]
    }
   ],
   "source": [
    "str = \"İstanbul – naïve café\"\n",
    "result = str.encode()\n",
    "print(result)"
   ]
  },
  {
   "cell_type": "markdown",
   "id": "cbdde13a",
   "metadata": {
    "id": "cbdde13a"
   },
   "source": [
    "## `endswith`\n",
    "Matn **qaysi qo‘shimcha** bilan tugashini tekshiradi."
   ]
  },
  {
   "cell_type": "code",
   "execution_count": 7,
   "id": "f73cb7d6",
   "metadata": {
    "colab": {
     "base_uri": "https://localhost:8080/",
     "height": 0
    },
    "id": "f73cb7d6",
    "outputId": "f8f992d9-31a0-4d0d-ca97-35e21b4d4ba3"
   },
   "outputs": [
    {
     "name": "stdout",
     "output_type": "stream",
     "text": [
      "True\n"
     ]
    }
   ],
   "source": [
    "str = \"hello world\"\n",
    "print(str.endswith(\"world\"))"
   ]
  },
  {
   "cell_type": "markdown",
   "id": "68b52785",
   "metadata": {
    "id": "68b52785"
   },
   "source": [
    "## `expandtabs`\n",
    "`\\t` belgilarini **bo‘shliq**larga almashtiradi."
   ]
  },
  {
   "cell_type": "code",
   "execution_count": 8,
   "id": "a05c73b4",
   "metadata": {
    "colab": {
     "base_uri": "https://localhost:8080/",
     "height": 0
    },
    "id": "a05c73b4",
    "outputId": "3656dde8-0000-46f8-ddfa-0bd69e8636d4"
   },
   "outputs": [
    {
     "name": "stdout",
     "output_type": "stream",
     "text": [
      "a   b   c\n"
     ]
    }
   ],
   "source": [
    "str = \"a\\tb\\tc\"\n",
    "print(str.expandtabs(4))"
   ]
  },
  {
   "cell_type": "markdown",
   "id": "5532ef47",
   "metadata": {
    "id": "5532ef47"
   },
   "source": [
    "## `find`\n",
    "Topilsa **indeks**, topilmasa **-1**."
   ]
  },
  {
   "cell_type": "code",
   "execution_count": 9,
   "id": "3702dfbb",
   "metadata": {
    "colab": {
     "base_uri": "https://localhost:8080/",
     "height": 0
    },
    "id": "3702dfbb",
    "outputId": "07b6ec2d-7aac-49f1-f822-125934a81e66"
   },
   "outputs": [
    {
     "name": "stdout",
     "output_type": "stream",
     "text": [
      "6\n",
      "-1\n"
     ]
    }
   ],
   "source": [
    "str = \"hello world\"\n",
    "print(str.find(\"world\"))\n",
    "print(str.find(\"x\"))"
   ]
  },
  {
   "cell_type": "markdown",
   "id": "9abec550",
   "metadata": {
    "id": "9abec550"
   },
   "source": [
    "## `format`\n",
    "`{}` joylariga qiymat qo‘yadi."
   ]
  },
  {
   "cell_type": "code",
   "execution_count": 10,
   "id": "9dcff74d",
   "metadata": {
    "colab": {
     "base_uri": "https://localhost:8080/",
     "height": 0
    },
    "id": "9dcff74d",
    "outputId": "e700f60c-4256-42c1-9716-a4cd18a8a344"
   },
   "outputs": [
    {
     "name": "stdout",
     "output_type": "stream",
     "text": [
      "Hello, Abdulaziz!\n"
     ]
    }
   ],
   "source": [
    "str = \"Hello, {}!\"\n",
    "print(str.format(\"Abdulaziz\"))"
   ]
  },
  {
   "cell_type": "markdown",
   "id": "6407c3be",
   "metadata": {
    "id": "6407c3be"
   },
   "source": [
    "## `format_map`\n",
    " Lug‘at (`dict`) orqali formatlaydi."
   ]
  },
  {
   "cell_type": "code",
   "execution_count": 11,
   "id": "06167f33",
   "metadata": {
    "colab": {
     "base_uri": "https://localhost:8080/",
     "height": 0
    },
    "id": "06167f33",
    "outputId": "c9c53544-0d4e-4285-bf29-9e3b1cd13973"
   },
   "outputs": [
    {
     "name": "stdout",
     "output_type": "stream",
     "text": [
      "Name: Abdulaziz, Language: Python\n"
     ]
    }
   ],
   "source": [
    "str = \"Name: {name}, Language: {lang}\"\n",
    "mapping = {\"name\": \"Abdulaziz\", \"lang\": \"Python\"}\n",
    "print(str.format_map(mapping))"
   ]
  },
  {
   "cell_type": "markdown",
   "id": "82e2357d",
   "metadata": {
    "id": "82e2357d"
   },
   "source": [
    "## `index`\n",
    "Topilmasa **xato**(ValueError) chiqaradi."
   ]
  },
  {
   "cell_type": "code",
   "execution_count": 12,
   "id": "759835da",
   "metadata": {
    "colab": {
     "base_uri": "https://localhost:8080/",
     "height": 0
    },
    "id": "759835da",
    "outputId": "c2b41531-9341-4a39-c17b-e0c286923296"
   },
   "outputs": [
    {
     "name": "stdout",
     "output_type": "stream",
     "text": [
      "6\n",
      "Error: substring not found\n"
     ]
    }
   ],
   "source": [
    "str = \"hello world\"\n",
    "print(str.index(\"world\"))\n",
    "try:\n",
    "    print(str.index(\"x\"))\n",
    "except ValueError as e:\n",
    "    print(\"Error:\", e)"
   ]
  },
  {
   "cell_type": "markdown",
   "id": "7fa7ef52",
   "metadata": {
    "id": "7fa7ef52"
   },
   "source": [
    "## `isalnum`\n",
    "Faqat **harf/raqam** bo‘lsa True."
   ]
  },
  {
   "cell_type": "code",
   "execution_count": 13,
   "id": "042f16fd",
   "metadata": {
    "colab": {
     "base_uri": "https://localhost:8080/",
     "height": 0
    },
    "id": "042f16fd",
    "outputId": "879497b4-25b6-4282-e10d-454dc6b433ca"
   },
   "outputs": [
    {
     "name": "stdout",
     "output_type": "stream",
     "text": [
      "True\n",
      "False\n"
     ]
    }
   ],
   "source": [
    "str1 = \"abc123\"\n",
    "str2 = \"abc-123\"\n",
    "print(str1.isalnum())\n",
    "print(str2.isalnum())"
   ]
  },
  {
   "cell_type": "markdown",
   "id": "8a1de9db",
   "metadata": {
    "id": "8a1de9db"
   },
   "source": [
    "## `isalpha`\n",
    "Faqat **harflar** bo‘lsa True."
   ]
  },
  {
   "cell_type": "code",
   "execution_count": 14,
   "id": "5cccbbca",
   "metadata": {
    "colab": {
     "base_uri": "https://localhost:8080/",
     "height": 0
    },
    "id": "5cccbbca",
    "outputId": "8af33ced-3546-4fef-b0c1-4a49892ac494"
   },
   "outputs": [
    {
     "name": "stdout",
     "output_type": "stream",
     "text": [
      "True\n"
     ]
    }
   ],
   "source": [
    "str = \"Salom\"\n",
    "print(str.isalpha())"
   ]
  },
  {
   "cell_type": "markdown",
   "id": "e749f79d",
   "metadata": {
    "id": "e749f79d"
   },
   "source": [
    "## `isascii`\n",
    " Faqat **ASCII** bo‘lsa True."
   ]
  },
  {
   "cell_type": "code",
   "execution_count": 15,
   "id": "fba152f3",
   "metadata": {
    "colab": {
     "base_uri": "https://localhost:8080/",
     "height": 0
    },
    "id": "fba152f3",
    "outputId": "fbf78874-8893-431a-ea14-35b8e7d3390c"
   },
   "outputs": [
    {
     "name": "stdout",
     "output_type": "stream",
     "text": [
      "True\n",
      "False\n"
     ]
    }
   ],
   "source": [
    "str1 = \"hello\"\n",
    "str2 = \"İstanbul – naïve café\"\n",
    "print(str1.isascii())\n",
    "print(str2.isascii())"
   ]
  },
  {
   "cell_type": "markdown",
   "id": "8b5e5ffe",
   "metadata": {
    "id": "8b5e5ffe"
   },
   "source": [
    "## `isdecimal`\n",
    "Faqat **decimal** raqamlar."
   ]
  },
  {
   "cell_type": "code",
   "execution_count": 16,
   "id": "c6952dc8",
   "metadata": {
    "colab": {
     "base_uri": "https://localhost:8080/",
     "height": 0
    },
    "id": "c6952dc8",
    "outputId": "357cd098-157e-408b-921d-49faa7608ded"
   },
   "outputs": [
    {
     "name": "stdout",
     "output_type": "stream",
     "text": [
      "True\n"
     ]
    }
   ],
   "source": [
    "str = \"123\"\n",
    "print(str.isdecimal())"
   ]
  },
  {
   "cell_type": "markdown",
   "id": "8c2653f9",
   "metadata": {
    "id": "8c2653f9"
   },
   "source": [
    "## `isdigit`\n",
    "**Raqam** belgilarini ham qamrab oladi."
   ]
  },
  {
   "cell_type": "code",
   "execution_count": 17,
   "id": "7698408e",
   "metadata": {
    "colab": {
     "base_uri": "https://localhost:8080/",
     "height": 0
    },
    "id": "7698408e",
    "outputId": "bc0ad35c-cf72-4eb6-fd9e-a1e85f77dceb"
   },
   "outputs": [
    {
     "name": "stdout",
     "output_type": "stream",
     "text": [
      "True\n"
     ]
    }
   ],
   "source": [
    "str = \"12345\"\n",
    "print(str.isdigit())"
   ]
  },
  {
   "cell_type": "markdown",
   "id": "0341ef79",
   "metadata": {
    "id": "0341ef79"
   },
   "source": [
    "## `isidentifier`\n",
    "Python **identifikatori** bo‘lishi mumkinmi?"
   ]
  },
  {
   "cell_type": "code",
   "execution_count": 18,
   "id": "6ba810d3",
   "metadata": {
    "colab": {
     "base_uri": "https://localhost:8080/",
     "height": 0
    },
    "id": "6ba810d3",
    "outputId": "46687c1e-2802-4858-c0cc-8de1248469d4"
   },
   "outputs": [
    {
     "name": "stdout",
     "output_type": "stream",
     "text": [
      "True\n",
      "False\n"
     ]
    }
   ],
   "source": [
    "str1 = \"my_var1\"\n",
    "str2 = \"1abc\"\n",
    "print(str1.isidentifier())\n",
    "print(str2.isidentifier())"
   ]
  },
  {
   "cell_type": "markdown",
   "id": "61aa4739",
   "metadata": {
    "id": "61aa4739"
   },
   "source": [
    "## `islower`\n",
    "Hammasi **kichik** harfmi?"
   ]
  },
  {
   "cell_type": "code",
   "execution_count": 19,
   "id": "4b458346",
   "metadata": {
    "colab": {
     "base_uri": "https://localhost:8080/",
     "height": 0
    },
    "id": "4b458346",
    "outputId": "92a5f74a-6e8e-47b0-cdf0-fd1175fb8958"
   },
   "outputs": [
    {
     "name": "stdout",
     "output_type": "stream",
     "text": [
      "True\n"
     ]
    }
   ],
   "source": [
    "str = \"hello world\"\n",
    "print(str.islower())"
   ]
  },
  {
   "cell_type": "markdown",
   "id": "0b780756",
   "metadata": {
    "id": "0b780756"
   },
   "source": [
    "## `isnumeric`\n",
    "**Raqam** sifatida qabul qilinadi."
   ]
  },
  {
   "cell_type": "code",
   "execution_count": 20,
   "id": "ec18bc41",
   "metadata": {
    "colab": {
     "base_uri": "https://localhost:8080/",
     "height": 0
    },
    "id": "ec18bc41",
    "outputId": "6a8e69f3-1022-4a42-c1f5-071e248bb162"
   },
   "outputs": [
    {
     "name": "stdout",
     "output_type": "stream",
     "text": [
      "True\n"
     ]
    }
   ],
   "source": [
    "str = \"12345\"\n",
    "print(str.isnumeric())"
   ]
  },
  {
   "cell_type": "markdown",
   "id": "68c02c0b",
   "metadata": {
    "id": "68c02c0b"
   },
   "source": [
    "## `isprintable`\n",
    " **Chop etiladigan** belgilar to‘plami."
   ]
  },
  {
   "cell_type": "code",
   "execution_count": 21,
   "id": "2b565ef9",
   "metadata": {
    "colab": {
     "base_uri": "https://localhost:8080/",
     "height": 0
    },
    "id": "2b565ef9",
    "outputId": "71136b03-77b8-4163-ab7a-702321206a3a"
   },
   "outputs": [
    {
     "name": "stdout",
     "output_type": "stream",
     "text": [
      "True\n",
      "False\n"
     ]
    }
   ],
   "source": [
    "str1 = \"hi\"\n",
    "str2 = \"line1\\nline2\\r\\nline3\\n\"\n",
    "print(str1.isprintable())\n",
    "print(str2.isprintable())"
   ]
  },
  {
   "cell_type": "markdown",
   "id": "c496d44f",
   "metadata": {
    "id": "c496d44f"
   },
   "source": [
    "## `isspace`\n",
    " Faqat **bo‘shliq** belgilar bo‘lsa True."
   ]
  },
  {
   "cell_type": "code",
   "execution_count": 22,
   "id": "58361407",
   "metadata": {
    "colab": {
     "base_uri": "https://localhost:8080/",
     "height": 0
    },
    "id": "58361407",
    "outputId": "830e5b83-4148-4893-b5fd-cbbb570cf83d"
   },
   "outputs": [
    {
     "name": "stdout",
     "output_type": "stream",
     "text": [
      "True\n"
     ]
    }
   ],
   "source": [
    "str = \"   \\t\"\n",
    "print(str.isspace())"
   ]
  },
  {
   "cell_type": "markdown",
   "id": "5aec31ff",
   "metadata": {
    "id": "5aec31ff"
   },
   "source": [
    "## `istitle`\n",
    " Har so‘zning 1-harfi **katta**, qolganlari **kichik**."
   ]
  },
  {
   "cell_type": "code",
   "execution_count": 23,
   "id": "352fbcf4",
   "metadata": {
    "colab": {
     "base_uri": "https://localhost:8080/",
     "height": 0
    },
    "id": "352fbcf4",
    "outputId": "857e0238-b92b-45ba-f2bb-7f8263d579d5"
   },
   "outputs": [
    {
     "name": "stdout",
     "output_type": "stream",
     "text": [
      "True\n"
     ]
    }
   ],
   "source": [
    "str = \"Hello World\"\n",
    "print(str.istitle())"
   ]
  },
  {
   "cell_type": "markdown",
   "id": "9adac46b",
   "metadata": {
    "id": "9adac46b"
   },
   "source": [
    "## `isupper`\n",
    " Hammasi **katta** harfmi?"
   ]
  },
  {
   "cell_type": "code",
   "execution_count": 24,
   "id": "e0dbf433",
   "metadata": {
    "colab": {
     "base_uri": "https://localhost:8080/",
     "height": 0
    },
    "id": "e0dbf433",
    "outputId": "d56a4646-451a-4cdb-aeb9-afa614c91c32"
   },
   "outputs": [
    {
     "name": "stdout",
     "output_type": "stream",
     "text": [
      "True\n"
     ]
    }
   ],
   "source": [
    "str = \"PYTHON\"\n",
    "print(str.isupper())"
   ]
  },
  {
   "cell_type": "markdown",
   "id": "d47e7d22",
   "metadata": {
    "id": "d47e7d22"
   },
   "source": [
    "## `join`\n",
    " Elementlarni **birlashtiradi** (ajratgich sifatida)."
   ]
  },
  {
   "cell_type": "code",
   "execution_count": 25,
   "id": "a0ecc06d",
   "metadata": {
    "colab": {
     "base_uri": "https://localhost:8080/",
     "height": 0
    },
    "id": "a0ecc06d",
    "outputId": "c9645c7a-0144-45da-a57b-80c77ee32c12"
   },
   "outputs": [
    {
     "name": "stdout",
     "output_type": "stream",
     "text": [
      "red-green-blue\n"
     ]
    }
   ],
   "source": [
    "str = \"-\"  # separator\n",
    "words = [\"red\",\"green\",\"blue\"]\n",
    "print(str.join(words))"
   ]
  },
  {
   "cell_type": "markdown",
   "id": "34b00bf8",
   "metadata": {
    "id": "34b00bf8"
   },
   "source": [
    "## `ljust`\n",
    "Chapga tekislaydi, o‘ngini **to‘ldiradi**."
   ]
  },
  {
   "cell_type": "code",
   "execution_count": 26,
   "id": "d1bf6952",
   "metadata": {
    "colab": {
     "base_uri": "https://localhost:8080/",
     "height": 0
    },
    "id": "d1bf6952",
    "outputId": "917b28db-dcdd-4c5c-c0cf-4c779b822c16"
   },
   "outputs": [
    {
     "name": "stdout",
     "output_type": "stream",
     "text": [
      "hi....\n"
     ]
    }
   ],
   "source": [
    "str = \"hi\"\n",
    "print(str.ljust(6, \".\"))"
   ]
  },
  {
   "cell_type": "markdown",
   "id": "c9d2721d",
   "metadata": {
    "id": "c9d2721d"
   },
   "source": [
    "## `lower`\n",
    "Hammasini **kichik** qiladi."
   ]
  },
  {
   "cell_type": "code",
   "execution_count": 27,
   "id": "d424ff96",
   "metadata": {
    "colab": {
     "base_uri": "https://localhost:8080/",
     "height": 0
    },
    "id": "d424ff96",
    "outputId": "5f062a90-8571-42cf-ecf7-a93f45492f4e"
   },
   "outputs": [
    {
     "name": "stdout",
     "output_type": "stream",
     "text": [
      "python 3.10!\n"
     ]
    }
   ],
   "source": [
    "str = \"PyThOn 3.10!\"\n",
    "print(str.lower())"
   ]
  },
  {
   "cell_type": "markdown",
   "id": "380a0331",
   "metadata": {
    "id": "380a0331"
   },
   "source": [
    "## `lstrip`\n",
    "Chap tomondagi **bo‘shliq/belgilar**ni oladi."
   ]
  },
  {
   "cell_type": "code",
   "execution_count": 28,
   "id": "54736c06",
   "metadata": {
    "colab": {
     "base_uri": "https://localhost:8080/",
     "height": 0
    },
    "id": "54736c06",
    "outputId": "e6e4fc75-1b71-4a9e-bd26-505cebabe15a"
   },
   "outputs": [
    {
     "name": "stdout",
     "output_type": "stream",
     "text": [
      "hello\tworld  \n",
      "title***\n"
     ]
    }
   ],
   "source": [
    "str1 = \"  hello\\tworld  \"\n",
    "str2 = \"***title***\"\n",
    "print(str1.lstrip())\n",
    "print(str2.lstrip('*'))"
   ]
  },
  {
   "cell_type": "markdown",
   "id": "3643dcd4",
   "metadata": {
    "id": "3643dcd4"
   },
   "source": [
    "## `maketrans + translate`\n",
    " Belgilarni **xarita** asosida almashtiradi."
   ]
  },
  {
   "cell_type": "code",
   "execution_count": 29,
   "id": "09b22918",
   "metadata": {
    "colab": {
     "base_uri": "https://localhost:8080/",
     "height": 0
    },
    "id": "09b22918",
    "outputId": "1d6448cd-8b3f-4168-b3a3-5e245ac001d4"
   },
   "outputs": [
    {
     "name": "stdout",
     "output_type": "stream",
     "text": [
      "l0r3m 1psum d0l0r s1t @m3t\n"
     ]
    }
   ],
   "source": [
    "str = \"lorem ipsum dolor sit amet\"\n",
    "trans = str.maketrans({\"a\":\"@\", \"e\":\"3\", \"i\":\"1\", \"o\":\"0\"})\n",
    "print(str.translate(trans))"
   ]
  },
  {
   "cell_type": "markdown",
   "id": "6fa2a4ed",
   "metadata": {
    "id": "6fa2a4ed"
   },
   "source": [
    "## `partition`\n",
    " (chap, **ajratgich**, o‘ng) tarzida qaytaradi."
   ]
  },
  {
   "cell_type": "code",
   "execution_count": 30,
   "id": "cc337b1a",
   "metadata": {
    "colab": {
     "base_uri": "https://localhost:8080/",
     "height": 0
    },
    "id": "cc337b1a",
    "outputId": "68b426e9-ae92-4a21-afd0-70ed0f134702"
   },
   "outputs": [
    {
     "name": "stdout",
     "output_type": "stream",
     "text": [
      "('hello', ' ', 'world')\n"
     ]
    }
   ],
   "source": [
    "str = \"hello world\"\n",
    "print(str.partition(\" \"))"
   ]
  },
  {
   "cell_type": "markdown",
   "id": "5aae60d8",
   "metadata": {
    "id": "5aae60d8"
   },
   "source": [
    "## `replace`\n",
    " **Almashtirish** amali."
   ]
  },
  {
   "cell_type": "code",
   "execution_count": 31,
   "id": "f9871b53",
   "metadata": {
    "colab": {
     "base_uri": "https://localhost:8080/",
     "height": 0
    },
    "id": "f9871b53",
    "outputId": "0418bc38-7c29-46db-8874-88ce9654713b"
   },
   "outputs": [
    {
     "name": "stdout",
     "output_type": "stream",
     "text": [
      "hello Python\n"
     ]
    }
   ],
   "source": [
    "str = \"hello world\"\n",
    "print(str.replace(\"world\", \"Python\"))"
   ]
  },
  {
   "cell_type": "markdown",
   "id": "167c2bde",
   "metadata": {
    "id": "167c2bde"
   },
   "source": [
    "## `rfind`\n",
    " Oxiridan qidiradi."
   ]
  },
  {
   "cell_type": "code",
   "execution_count": 32,
   "id": "426be0f2",
   "metadata": {
    "colab": {
     "base_uri": "https://localhost:8080/",
     "height": 0
    },
    "id": "426be0f2",
    "outputId": "96d0996a-5759-44b7-b8c8-0a1867077a13"
   },
   "outputs": [
    {
     "name": "stdout",
     "output_type": "stream",
     "text": [
      "3\n"
     ]
    }
   ],
   "source": [
    "str = \"a.b.c\"\n",
    "print(str.rfind(\".\"))"
   ]
  },
  {
   "cell_type": "markdown",
   "id": "f60c3884",
   "metadata": {
    "id": "f60c3884"
   },
   "source": [
    "## `rindex`\n",
    " Oxiridan qidiradi, topilmasa **xato**."
   ]
  },
  {
   "cell_type": "code",
   "execution_count": 33,
   "id": "f6e38986",
   "metadata": {
    "colab": {
     "base_uri": "https://localhost:8080/",
     "height": 0
    },
    "id": "f6e38986",
    "outputId": "7d9907d6-6dc8-4532-a9c5-7a8a39b73c3f"
   },
   "outputs": [
    {
     "name": "stdout",
     "output_type": "stream",
     "text": [
      "3\n"
     ]
    }
   ],
   "source": [
    "str = \"a.b.c\"\n",
    "print(str.rindex(\".\"))"
   ]
  },
  {
   "cell_type": "markdown",
   "id": "ffeeebcc",
   "metadata": {
    "id": "ffeeebcc"
   },
   "source": [
    "## `rjust`\n",
    " O‘ngga tekislaydi, chapni **to‘ldiradi**."
   ]
  },
  {
   "cell_type": "code",
   "execution_count": 34,
   "id": "1dbd3425",
   "metadata": {
    "colab": {
     "base_uri": "https://localhost:8080/",
     "height": 0
    },
    "id": "1dbd3425",
    "outputId": "c998788c-f131-41b2-e314-42dbc3681645"
   },
   "outputs": [
    {
     "name": "stdout",
     "output_type": "stream",
     "text": [
      "....hi\n"
     ]
    }
   ],
   "source": [
    "str = \"hi\"\n",
    "print(str.rjust(6, \".\"))"
   ]
  },
  {
   "cell_type": "markdown",
   "id": "5c405447",
   "metadata": {
    "id": "5c405447"
   },
   "source": [
    "## `rpartition`\n",
    " Ajratishni **oxiridan** qiladi."
   ]
  },
  {
   "cell_type": "code",
   "execution_count": 35,
   "id": "30ac7acf",
   "metadata": {
    "colab": {
     "base_uri": "https://localhost:8080/",
     "height": 0
    },
    "id": "30ac7acf",
    "outputId": "f0033f2d-425e-48c6-c68c-95fed25a3ca8"
   },
   "outputs": [
    {
     "name": "stdout",
     "output_type": "stream",
     "text": [
      "('a.b', '.', 'c')\n"
     ]
    }
   ],
   "source": [
    "str = \"a.b.c\"\n",
    "print(str.rpartition(\".\"))"
   ]
  },
  {
   "cell_type": "markdown",
   "id": "b992a8a4",
   "metadata": {
    "id": "b992a8a4"
   },
   "source": [
    "## `rsplit`\n",
    "**O‘ngdan** bo‘lib ajratadi."
   ]
  },
  {
   "cell_type": "code",
   "execution_count": 36,
   "id": "9f705e5d",
   "metadata": {
    "colab": {
     "base_uri": "https://localhost:8080/",
     "height": 0
    },
    "id": "9f705e5d",
    "outputId": "3af52346-1b70-4671-d5ff-0099c2dc0906"
   },
   "outputs": [
    {
     "name": "stdout",
     "output_type": "stream",
     "text": [
      "['one', 'two', 'three']\n",
      "['a.b', 'c']\n"
     ]
    }
   ],
   "source": [
    "str1 = \" one  two   three \"\n",
    "str2 = \"a.b.c\"\n",
    "print(str1.rsplit())\n",
    "print(str2.rsplit(\".\", 1))"
   ]
  },
  {
   "cell_type": "markdown",
   "id": "e450a7b8",
   "metadata": {
    "id": "e450a7b8"
   },
   "source": [
    "## `rstrip`\n",
    "O‘ng tomondagi **bo‘shliq/belgilar**ni oladi."
   ]
  },
  {
   "cell_type": "code",
   "execution_count": 37,
   "id": "05ec1bea",
   "metadata": {
    "colab": {
     "base_uri": "https://localhost:8080/",
     "height": 0
    },
    "id": "05ec1bea",
    "outputId": "70cbaf3a-23ae-4864-c757-2b31de6ab535"
   },
   "outputs": [
    {
     "name": "stdout",
     "output_type": "stream",
     "text": [
      "  hello\tworld\n",
      "***title\n"
     ]
    }
   ],
   "source": [
    "str1 = \"  hello\\tworld  \"\n",
    "str2 = \"***title***\"\n",
    "print(str1.rstrip())\n",
    "print(str2.rstrip('*'))"
   ]
  },
  {
   "cell_type": "markdown",
   "id": "8f5b6547",
   "metadata": {
    "id": "8f5b6547"
   },
   "source": [
    "## `split`\n",
    "**Bo‘lib ajratish**."
   ]
  },
  {
   "cell_type": "code",
   "execution_count": 38,
   "id": "284d0e17",
   "metadata": {
    "colab": {
     "base_uri": "https://localhost:8080/",
     "height": 0
    },
    "id": "284d0e17",
    "outputId": "f4e964b0-c0d7-4bab-e627-d8e2658bafcc"
   },
   "outputs": [
    {
     "name": "stdout",
     "output_type": "stream",
     "text": [
      "['one', 'two', 'three']\n",
      "['a', 'b', 'c']\n"
     ]
    }
   ],
   "source": [
    "str1 = \" one  two   three \"\n",
    "str2 = \"a.b.c\"\n",
    "print(str1.split())\n",
    "print(str2.split(\".\"))"
   ]
  },
  {
   "cell_type": "markdown",
   "id": "1c9ac8c5",
   "metadata": {
    "id": "1c9ac8c5"
   },
   "source": [
    "## `splitlines`\n",
    " **Qator**larga bo‘lib beradi."
   ]
  },
  {
   "cell_type": "code",
   "execution_count": 39,
   "id": "aaf7cbe6",
   "metadata": {
    "colab": {
     "base_uri": "https://localhost:8080/",
     "height": 0
    },
    "id": "aaf7cbe6",
    "outputId": "e02a3d8b-39e7-4699-8393-14066d034b1f"
   },
   "outputs": [
    {
     "name": "stdout",
     "output_type": "stream",
     "text": [
      "['line1', 'line2', 'line3']\n"
     ]
    }
   ],
   "source": [
    "str = \"line1\\nline2\\r\\nline3\\n\"\n",
    "print(str.splitlines())"
   ]
  },
  {
   "cell_type": "markdown",
   "id": "074e24a5",
   "metadata": {
    "id": "074e24a5"
   },
   "source": [
    "## `startswith`\n",
    " Matn **nimadan boshlanishi**ni tekshiradi."
   ]
  },
  {
   "cell_type": "code",
   "execution_count": 40,
   "id": "c392931c",
   "metadata": {
    "colab": {
     "base_uri": "https://localhost:8080/",
     "height": 0
    },
    "id": "c392931c",
    "outputId": "feeb52f2-29dc-4917-e739-c8f2a51fabdd"
   },
   "outputs": [
    {
     "name": "stdout",
     "output_type": "stream",
     "text": [
      "True\n"
     ]
    }
   ],
   "source": [
    "str = \"hello world\"\n",
    "print(str.startswith(\"hello\"))"
   ]
  },
  {
   "cell_type": "markdown",
   "id": "a771f039",
   "metadata": {
    "id": "a771f039"
   },
   "source": [
    "## `strip`\n",
    "Ikkala tomondagi **bo‘shliq/belgilar**ni oladi."
   ]
  },
  {
   "cell_type": "code",
   "execution_count": 41,
   "id": "45d19316",
   "metadata": {
    "colab": {
     "base_uri": "https://localhost:8080/",
     "height": 0
    },
    "id": "45d19316",
    "outputId": "542ecfc0-7cc0-4c16-a6f6-aaa91aa941ad"
   },
   "outputs": [
    {
     "name": "stdout",
     "output_type": "stream",
     "text": [
      "hello\tworld\n",
      "title\n"
     ]
    }
   ],
   "source": [
    "str1 = \"  hello\\tworld  \"\n",
    "str2 = \"***title***\"\n",
    "print(str1.strip())\n",
    "print(str2.strip('*'))"
   ]
  },
  {
   "cell_type": "markdown",
   "id": "489f4229",
   "metadata": {
    "id": "489f4229"
   },
   "source": [
    "## `swapcase`\n",
    " **katta↔kichik** harflarni almashtiradi."
   ]
  },
  {
   "cell_type": "code",
   "execution_count": 42,
   "id": "3212c286",
   "metadata": {
    "colab": {
     "base_uri": "https://localhost:8080/",
     "height": 0
    },
    "id": "3212c286",
    "outputId": "40e7b714-f29c-4614-85a5-fba45e5bab0b"
   },
   "outputs": [
    {
     "name": "stdout",
     "output_type": "stream",
     "text": [
      "pYtHoN 3.10!\n"
     ]
    }
   ],
   "source": [
    "str = \"PyThOn 3.10!\"\n",
    "print(str.swapcase())"
   ]
  },
  {
   "cell_type": "markdown",
   "id": "f1270a6c",
   "metadata": {
    "id": "f1270a6c"
   },
   "source": [
    "## `title`\n",
    " Har so‘zning bosh harfini **katta** qiladi."
   ]
  },
  {
   "cell_type": "code",
   "execution_count": 43,
   "id": "972f0c8f",
   "metadata": {
    "colab": {
     "base_uri": "https://localhost:8080/",
     "height": 0
    },
    "id": "972f0c8f",
    "outputId": "ccfdfe87-e692-432f-89b6-29df66019336"
   },
   "outputs": [
    {
     "name": "stdout",
     "output_type": "stream",
     "text": [
      "Lorem Ipsum Dolor Sit Amet\n"
     ]
    }
   ],
   "source": [
    "str = \"lorem ipsum dolor sit amet\"\n",
    "print(str.title())"
   ]
  },
  {
   "cell_type": "markdown",
   "id": "70d48c4f",
   "metadata": {
    "id": "70d48c4f"
   },
   "source": [
    "## `upper`\n",
    " Hammasini **katta** qiladi."
   ]
  },
  {
   "cell_type": "code",
   "execution_count": 44,
   "id": "95f5b311",
   "metadata": {
    "colab": {
     "base_uri": "https://localhost:8080/",
     "height": 0
    },
    "id": "95f5b311",
    "outputId": "9d8ff5ce-b40c-4000-e25b-26c03add6d09"
   },
   "outputs": [
    {
     "name": "stdout",
     "output_type": "stream",
     "text": [
      "HELLO WORLD\n"
     ]
    }
   ],
   "source": [
    "str = \"hello world\"\n",
    "print(str.upper())"
   ]
  },
  {
   "cell_type": "markdown",
   "id": "adf45729",
   "metadata": {
    "id": "adf45729"
   },
   "source": [
    "## `zfill`\n",
    " Chapdan **0** bilan to‘ldiradi."
   ]
  },
  {
   "cell_type": "code",
   "execution_count": 45,
   "id": "af1101bf",
   "metadata": {
    "colab": {
     "base_uri": "https://localhost:8080/",
     "height": 0
    },
    "id": "af1101bf",
    "outputId": "06e2816c-5f35-4315-9802-83ec53592bb5"
   },
   "outputs": [
    {
     "name": "stdout",
     "output_type": "stream",
     "text": [
      "00042\n",
      "-0042\n"
     ]
    }
   ],
   "source": [
    "str1 = \"42\"\n",
    "str2 = \"-42\"\n",
    "print(str1.zfill(5))\n",
    "print(str2.zfill(5))"
   ]
  },
  {
   "cell_type": "markdown",
   "id": "f8372ffd",
   "metadata": {
    "id": "f8372ffd"
   },
   "source": [
    "## `removeprefix`\n",
    " Berilgan **prefiks** bo‘lsa, olib tashlaydi."
   ]
  },
  {
   "cell_type": "code",
   "execution_count": 46,
   "id": "092c1fc6",
   "metadata": {
    "colab": {
     "base_uri": "https://localhost:8080/",
     "height": 0
    },
    "id": "092c1fc6",
    "outputId": "db1f76d0-9f3f-4549-d7fe-9f2092d4e6b3"
   },
   "outputs": [
    {
     "name": "stdout",
     "output_type": "stream",
     "text": [
      "happy\n"
     ]
    }
   ],
   "source": [
    "str = \"unhappy\"\n",
    "print(str.removeprefix(\"un\"))"
   ]
  },
  {
   "cell_type": "markdown",
   "id": "71e74c57",
   "metadata": {
    "id": "71e74c57"
   },
   "source": [
    "## `removesuffix`\n",
    "Berilgan **suffiks** bo‘lsa, olib tashlaydi."
   ]
  },
  {
   "cell_type": "code",
   "execution_count": 47,
   "id": "dc5c0e79",
   "metadata": {
    "colab": {
     "base_uri": "https://localhost:8080/",
     "height": 0
    },
    "id": "dc5c0e79",
    "outputId": "7a07f962-3589-413e-e4ce-4ea1d67aa346"
   },
   "outputs": [
    {
     "name": "stdout",
     "output_type": "stream",
     "text": [
      "us\n"
     ]
    }
   ],
   "source": [
    "str = \"usable\"\n",
    "print(str.removesuffix(\"able\"))"
   ]
  },
  {
   "cell_type": "markdown",
   "id": "d42db40c",
   "metadata": {
    "id": "d42db40c"
   },
   "source": [
    "---\n",
    "\n",
    "*Maslahat:* `str` qiymatlarini o‘zgartirib ko‘ring va natijani kuzating.\n",
    "\n",
    "---"
   ]
  }
 ],
 "metadata": {
  "colab": {
   "provenance": []
  },
  "kernelspec": {
   "display_name": "Python 3 (ipykernel)",
   "language": "python",
   "name": "python3"
  },
  "language_info": {
   "codemirror_mode": {
    "name": "ipython",
    "version": 3
   },
   "file_extension": ".py",
   "mimetype": "text/x-python",
   "name": "python",
   "nbconvert_exporter": "python",
   "pygments_lexer": "ipython3",
   "version": "3.13.3"
  }
 },
 "nbformat": 4,
 "nbformat_minor": 5
}
